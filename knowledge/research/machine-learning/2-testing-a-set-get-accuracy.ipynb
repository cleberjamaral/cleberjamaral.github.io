{
 "cells": [
  {
   "cell_type": "code",
   "execution_count": 11,
   "metadata": {
    "cellView": "both",
    "colab": {},
    "colab_type": "code",
    "id": "F2_iIAbvxg04"
   },
   "outputs": [
    {
     "data": {
      "text/plain": [
       "LinearSVC(C=1.0, class_weight=None, dual=True, fit_intercept=True,\n",
       "          intercept_scaling=1, loss='squared_hinge', max_iter=1000,\n",
       "          multi_class='ovr', penalty='l2', random_state=None, tol=0.0001,\n",
       "          verbose=0)"
      ]
     },
     "execution_count": 11,
     "metadata": {},
     "output_type": "execute_result"
    }
   ],
   "source": [
    "# Let us start with a simple dataset and train our machine\n",
    "\n",
    "from sklearn.svm import LinearSVC\n",
    "\n",
    "train_x = [[0,1,0], [0,1,1], [1,1,0], [0,1,1], [1,0,1], [1,1,1]]\n",
    "train_y = [1,1,1,0,0,0]\n",
    "\n",
    "model = LinearSVC()\n",
    "model.fit(train_x, train_y)"
   ]
  },
  {
   "cell_type": "code",
   "execution_count": 12,
   "metadata": {
    "colab": {},
    "colab_type": "code",
    "id": "ll2pVldMy-8B"
   },
   "outputs": [],
   "source": [
    "# The problem with the just trained machine is that we don't know how good it is on classifying dogs and pigs.\n",
    "# We can only know that if we give new samples which we also know that the real category and ask to the machine to bet.\n",
    "# Then, we can check how good were the bets of the machine.\n",
    "\n",
    "# Let us say we have observed other three animals:\n",
    "an_animal1 = [1,1,1]\n",
    "an_animal2 = [1,1,0]\n",
    "an_animal3 = [0,1,1]\n",
    "\n",
    "test_x = [an_animal1, an_animal2, an_animal3]\n",
    "\n",
    "# We have seen that the first is a dog ang the other two are pigs\n",
    "test_y = [0,1,1]"
   ]
  },
  {
   "cell_type": "code",
   "execution_count": 13,
   "metadata": {
    "colab": {
     "base_uri": "https://localhost:8080/",
     "height": 35
    },
    "colab_type": "code",
    "executionInfo": {
     "elapsed": 712,
     "status": "ok",
     "timestamp": 1588413930502,
     "user": {
      "displayName": "Cleber Jorge Amaral",
      "photoUrl": "https://lh3.googleusercontent.com/a-/AOh14Gh_i2w3LVoE3gi4Mh7LdYkvbfINKstBWqNBjcIg=s64",
      "userId": "15588936080531572906"
     },
     "user_tz": 180
    },
    "id": "a7LqCJGbz0ga",
    "outputId": "902066d2-734d-4868-ac48-24a3c96fd38d"
   },
   "outputs": [
    {
     "name": "stdout",
     "output_type": "stream",
     "text": [
      "The result is: [0 1 0]  we can see that the correct answer is actually: [0, 1, 1]\n"
     ]
    }
   ],
   "source": [
    "# So, in this next step, at first time, we will not tell the machine the answers. Instead, we are asking for its bets.\n",
    "predictions = model.predict(test_x)\n",
    "\n",
    "print(\"The result is:\",predictions,\" we can see that the correct answer is actually:\",test_y)"
   ]
  },
  {
   "cell_type": "code",
   "execution_count": 14,
   "metadata": {
    "colab": {
     "base_uri": "https://localhost:8080/",
     "height": 35
    },
    "colab_type": "code",
    "executionInfo": {
     "elapsed": 823,
     "status": "ok",
     "timestamp": 1588413917703,
     "user": {
      "displayName": "Cleber Jorge Amaral",
      "photoUrl": "https://lh3.googleusercontent.com/a-/AOh14Gh_i2w3LVoE3gi4Mh7LdYkvbfINKstBWqNBjcIg=s64",
      "userId": "15588936080531572906"
     },
     "user_tz": 180
    },
    "id": "rsqrZtztz5TL",
    "outputId": "c8066f42-efd6-452f-f60e-affdbc1b7673"
   },
   "outputs": [
    {
     "name": "stdout",
     "output_type": "stream",
     "text": [
      "The accuracy rate is: 0.6666666666666666\n"
     ]
    }
   ],
   "source": [
    "# So, we can see that the machine give correct answers for some, but what is the exaclty accuracy?\n",
    "\n",
    "from sklearn.metrics import accuracy_score\n",
    "\n",
    "# We can give the right and given answers to a metrics function to calculate the accuracy\n",
    "accuracy_rate = accuracy_score(test_y, predictions)\n",
    "\n",
    "print(\"The accuracy rate is:\",accuracy_rate)"
   ]
  },
  {
   "cell_type": "code",
   "execution_count": 10,
   "metadata": {
    "colab": {
     "base_uri": "https://localhost:8080/",
     "height": 55
    },
    "colab_type": "code",
    "executionInfo": {
     "elapsed": 937,
     "status": "ok",
     "timestamp": 1588414340048,
     "user": {
      "displayName": "Cleber Jorge Amaral",
      "photoUrl": "https://lh3.googleusercontent.com/a-/AOh14Gh_i2w3LVoE3gi4Mh7LdYkvbfINKstBWqNBjcIg=s64",
      "userId": "15588936080531572906"
     },
     "user_tz": 180
    },
    "id": "x4Q-KyQj1w75",
    "outputId": "ff296db4-edef-45bb-8429-0166af8c42e6"
   },
   "outputs": [
    {
     "name": "stdout",
     "output_type": "stream",
     "text": [
      "The accuracy rate of a dummy classifier is: 0.3333333333333333\n",
      "Currently our classifier is at least better than a dummy\n"
     ]
    }
   ],
   "source": [
    "# Is it good?\n",
    "# It depends on the context. After putting so much efforts in this classifier it is expected to give better bets\n",
    "# than a dummy classifier. A possible dummy classifier is one that bets according to how many of that sample it has.\n",
    "# Let us say that 80% of our observations are of dogs, so, a dummy classifier could simply says \"dog\" in 80% of \n",
    "# the cases\n",
    "\n",
    "# sklearn.dummy.DummyClassifier \n",
    "# https://scikit-learn.org/stable/modules/generated/sklearn.dummy.DummyClassifier.html\n",
    "\n",
    "from sklearn.dummy import DummyClassifier\n",
    "\n",
    "dummy_clf = DummyClassifier(strategy=\"most_frequent\")\n",
    "dummy_clf.fit(train_x,train_y)\n",
    "dummy_clf.predict(test_x)\n",
    "dummy_accuracy_rate = dummy_clf.score(test_x,test_y)\n",
    "\n",
    "print(\"The accuracy rate of a dummy classifier is:\",dummy_accuracy_rate)\n",
    "if (accuracy_rate > dummy_accuracy_rate):\n",
    "    print(\"Currently our classifier is at least better than a dummy\")\n",
    "else:\n",
    "    print(\"Currently our classifier is not even better than a dummy\")"
   ]
  },
  {
   "cell_type": "code",
   "execution_count": null,
   "metadata": {
    "colab": {},
    "colab_type": "code",
    "id": "kqUuHL_-3TWd"
   },
   "outputs": [],
   "source": []
  }
 ],
 "metadata": {
  "colab": {
   "authorship_tag": "ABX9TyMUjYp+v8VMC54+/cnedzCy",
   "collapsed_sections": [],
   "name": "2-testing-a-set-get-accuracy.ipynb",
   "provenance": [],
   "toc_visible": true
  },
  "kernelspec": {
   "display_name": "Python 3",
   "language": "python",
   "name": "python3"
  },
  "language_info": {
   "codemirror_mode": {
    "name": "ipython",
    "version": 3
   },
   "file_extension": ".py",
   "mimetype": "text/x-python",
   "name": "python",
   "nbconvert_exporter": "python",
   "pygments_lexer": "ipython3",
   "version": "3.5.3"
  }
 },
 "nbformat": 4,
 "nbformat_minor": 1
}
