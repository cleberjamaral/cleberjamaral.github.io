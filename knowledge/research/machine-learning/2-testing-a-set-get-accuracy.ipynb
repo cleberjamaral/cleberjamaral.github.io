{
 "cells": [
  {
   "cell_type": "code",
   "execution_count": 0,
   "metadata": {
    "cellView": "both",
    "colab": {},
    "colab_type": "code",
    "collapsed": true,
    "id": "F2_iIAbvxg04"
   },
   "outputs": [],
   "source": [
    "# an_animal = [long fur?, short leg?, Says woof?]\n",
    "\n",
    "pig1 = [0,1,0]\n",
    "pig2 = [0,1,1]\n",
    "pig3 = [1,1,0]\n",
    "\n",
    "dog1 = [0,1,1]\n",
    "dog2 = [1,0,1]\n",
    "dog3 = [1,1,1]\n",
    "\n",
    "train_x = [pig1, pig2, pig3, dog1, dog2, dog3]\n",
    "train_y = [1,1,1,0,0,0] # 0 means dog, 1 means pig"
   ]
  },
  {
   "cell_type": "code",
   "execution_count": 0,
   "metadata": {
    "colab": {
     "base_uri": "https://localhost:8080/",
     "height": 89
    },
    "colab_type": "code",
    "collapsed": false,
    "executionInfo": {
     "elapsed": 729,
     "status": "ok",
     "timestamp": 1588413469854,
     "user": {
      "displayName": "Cleber Jorge Amaral",
      "photoUrl": "https://lh3.googleusercontent.com/a-/AOh14Gh_i2w3LVoE3gi4Mh7LdYkvbfINKstBWqNBjcIg=s64",
      "userId": "15588936080531572906"
     },
     "user_tz": 180
    },
    "id": "-1yh3-wfybA1",
    "outputId": "1d16278c-ba99-4f68-c2ab-87930175295c"
   },
   "outputs": [
    {
     "data": {
      "text/plain": [
       "LinearSVC(C=1.0, class_weight=None, dual=True, fit_intercept=True,\n",
       "          intercept_scaling=1, loss='squared_hinge', max_iter=1000,\n",
       "          multi_class='ovr', penalty='l2', random_state=None, tol=0.0001,\n",
       "          verbose=0)"
      ]
     },
     "execution_count": 14,
     "metadata": {
      "tags": []
     },
     "output_type": "execute_result"
    }
   ],
   "source": [
    "# sklearn.svm.LinearSVC\n",
    "# https://scikit-learn.org/stable/modules/generated/sklearn.svm.LinearSVC.html\n",
    "\n",
    "from sklearn.svm import LinearSVC\n",
    "\n",
    "model = LinearSVC()\n",
    "model.fit(train_x, train_y)"
   ]
  },
  {
   "cell_type": "code",
   "execution_count": 0,
   "metadata": {
    "colab": {
     "base_uri": "https://localhost:8080/",
     "height": 35
    },
    "colab_type": "code",
    "collapsed": false,
    "executionInfo": {
     "elapsed": 711,
     "status": "ok",
     "timestamp": 1588413532981,
     "user": {
      "displayName": "Cleber Jorge Amaral",
      "photoUrl": "https://lh3.googleusercontent.com/a-/AOh14Gh_i2w3LVoE3gi4Mh7LdYkvbfINKstBWqNBjcIg=s64",
      "userId": "15588936080531572906"
     },
     "user_tz": 180
    },
    "id": "mFE0HMbQylui",
    "outputId": "26308bab-becb-4a43-edcd-2d910bd7fbe0"
   },
   "outputs": [
    {
     "name": "stdout",
     "output_type": "stream",
     "text": [
      "It is supposed to be a dog (0). The result is:  [0]\n"
     ]
    }
   ],
   "source": [
    "another_animal = [1,1,1]\n",
    "prediction = model.predict([another_animal])\n",
    "print(\"It is supposed to be a dog (0). The result is: \",prediction)"
   ]
  },
  {
   "cell_type": "code",
   "execution_count": 0,
   "metadata": {
    "colab": {},
    "colab_type": "code",
    "collapsed": true,
    "id": "ll2pVldMy-8B"
   },
   "outputs": [],
   "source": [
    "an_animal1 = [1,1,1]\n",
    "an_animal2 = [1,1,0]\n",
    "an_animal3 = [0,1,1]\n",
    "\n",
    "test_x = [an_animal1, an_animal2, an_animal3]\n",
    "test_y = [0,1,1]"
   ]
  },
  {
   "cell_type": "code",
   "execution_count": 0,
   "metadata": {
    "colab": {
     "base_uri": "https://localhost:8080/",
     "height": 35
    },
    "colab_type": "code",
    "collapsed": false,
    "executionInfo": {
     "elapsed": 712,
     "status": "ok",
     "timestamp": 1588413930502,
     "user": {
      "displayName": "Cleber Jorge Amaral",
      "photoUrl": "https://lh3.googleusercontent.com/a-/AOh14Gh_i2w3LVoE3gi4Mh7LdYkvbfINKstBWqNBjcIg=s64",
      "userId": "15588936080531572906"
     },
     "user_tz": 180
    },
    "id": "a7LqCJGbz0ga",
    "outputId": "902066d2-734d-4868-ac48-24a3c96fd38d"
   },
   "outputs": [
    {
     "name": "stdout",
     "output_type": "stream",
     "text": [
      "The resulta is: [0 1 0]  we can see that the correct answer is actually: [0, 1, 1]\n"
     ]
    }
   ],
   "source": [
    "predictions = model.predict(test_x)\n",
    "print(\"The resulta is:\",predictions,\" we can see that the correct answer is actually:\",test_y)"
   ]
  },
  {
   "cell_type": "code",
   "execution_count": 0,
   "metadata": {
    "colab": {
     "base_uri": "https://localhost:8080/",
     "height": 35
    },
    "colab_type": "code",
    "collapsed": false,
    "executionInfo": {
     "elapsed": 823,
     "status": "ok",
     "timestamp": 1588413917703,
     "user": {
      "displayName": "Cleber Jorge Amaral",
      "photoUrl": "https://lh3.googleusercontent.com/a-/AOh14Gh_i2w3LVoE3gi4Mh7LdYkvbfINKstBWqNBjcIg=s64",
      "userId": "15588936080531572906"
     },
     "user_tz": 180
    },
    "id": "rsqrZtztz5TL",
    "outputId": "c8066f42-efd6-452f-f60e-affdbc1b7673"
   },
   "outputs": [
    {
     "name": "stdout",
     "output_type": "stream",
     "text": [
      "The accuracy rate is: 0.6666666666666666\n"
     ]
    }
   ],
   "source": [
    "from sklearn.metrics import accuracy_score\n",
    "accuracy_rate = accuracy_score(test_y, predictions)\n",
    "print(\"The accuracy rate is:\",accuracy_rate)"
   ]
  },
  {
   "cell_type": "code",
   "execution_count": 0,
   "metadata": {
    "colab": {
     "base_uri": "https://localhost:8080/",
     "height": 55
    },
    "colab_type": "code",
    "collapsed": false,
    "executionInfo": {
     "elapsed": 937,
     "status": "ok",
     "timestamp": 1588414340048,
     "user": {
      "displayName": "Cleber Jorge Amaral",
      "photoUrl": "https://lh3.googleusercontent.com/a-/AOh14Gh_i2w3LVoE3gi4Mh7LdYkvbfINKstBWqNBjcIg=s64",
      "userId": "15588936080531572906"
     },
     "user_tz": 180
    },
    "id": "x4Q-KyQj1w75",
    "outputId": "ff296db4-edef-45bb-8429-0166af8c42e6"
   },
   "outputs": [
    {
     "name": "stdout",
     "output_type": "stream",
     "text": [
      "The accuracy rate of a dummy classifier is: 0.3333333333333333 , i.e., currently our classifier is at least better than a dummy\n"
     ]
    }
   ],
   "source": [
    "# sklearn.dummy.DummyClassifier \n",
    "# https://scikit-learn.org/stable/modules/generated/sklearn.dummy.DummyClassifier.html\n",
    "\n",
    "from sklearn.dummy import DummyClassifier\n",
    "\n",
    "dummy_clf = DummyClassifier(strategy=\"most_frequent\")\n",
    "dummy_clf.fit(train_x,train_y)\n",
    "dummy_clf.predict(test_x)\n",
    "dummy_accuracy_rate = dummy_clf.score(test_x,test_y)\n",
    "print(\"The accuracy rate of a dummy classifier is:\",dummy_accuracy_rate,\", i.e., currently our classifier is at least better than a dummy\")\n"
   ]
  },
  {
   "cell_type": "code",
   "execution_count": 0,
   "metadata": {
    "colab": {},
    "colab_type": "code",
    "collapsed": true,
    "id": "kqUuHL_-3TWd"
   },
   "outputs": [],
   "source": []
  }
 ],
 "metadata": {
  "colab": {
   "authorship_tag": "ABX9TyMUjYp+v8VMC54+/cnedzCy",
   "collapsed_sections": [],
   "name": "Alura - Introduction to ML 1/2.ipynb",
   "provenance": [],
   "toc_visible": true
  },
  "kernelspec": {
   "display_name": "Python 3",
   "language": "python",
   "name": "python3"
  }
 },
 "nbformat": 4,
 "nbformat_minor": 0
}
