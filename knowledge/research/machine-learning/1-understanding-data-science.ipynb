{
 "cells": [
  {
   "cell_type": "code",
   "execution_count": null,
   "metadata": {
    "collapsed": true
   },
   "outputs": [],
   "source": [
    "# an_animal = [long fur?, short leg?, Says woof?]\n",
    "\n",
    "pig1 = [0,1,0]\n",
    "pig2 = [0,1,1]\n",
    "pig3 = [1,1,0]\n",
    "\n",
    "dog1 = [0,1,1]\n",
    "dog2 = [1,0,1]\n",
    "dog3 = [1,1,1]\n",
    "\n",
    "train_x = [pig1, pig2, pig3, dog1, dog2, dog3]\n",
    "train_y = [1,1,1,0,0,0] # 0 means dog, 1 means pig"
   ]
  },
  {
   "cell_type": "code",
   "execution_count": null,
   "metadata": {
    "collapsed": true
   },
   "outputs": [],
   "source": [
    "# sklearn.svm.LinearSVC\n",
    "# https://scikit-learn.org/stable/modules/generated/sklearn.svm.LinearSVC.html\n",
    "\n",
    "from sklearn.svm import LinearSVC\n",
    "\n",
    "model = LinearSVC()\n",
    "model.fit(train_x, train_y)"
   ]
  },
  {
   "cell_type": "code",
   "execution_count": null,
   "metadata": {
    "collapsed": true
   },
   "outputs": [],
   "source": [
    "another_animal = [1,1,1]\n",
    "prediction = model.predict([another_animal])\n",
    "print(\"It is supposed to be a dog (0). The result is: \",prediction)"
   ]
  },
  {
   "cell_type": "code",
   "execution_count": null,
   "metadata": {
    "collapsed": true
   },
   "outputs": [],
   "source": []
  }
 ],
 "metadata": {
  "kernelspec": {
   "display_name": "Python 3",
   "language": "python",
   "name": "python3"
  }
 },
 "nbformat": 4,
 "nbformat_minor": 2
}
