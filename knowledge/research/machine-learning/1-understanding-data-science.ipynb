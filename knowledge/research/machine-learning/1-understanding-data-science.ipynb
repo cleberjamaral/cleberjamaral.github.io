{
 "cells": [
  {
   "cell_type": "code",
   "execution_count": 12,
   "metadata": {
    "cellView": "both",
    "colab": {},
    "colab_type": "code",
    "id": "F2_iIAbvxg04"
   },
   "outputs": [],
   "source": [
    "# Let us say we want to teach a machine how to identify animals in a farm. \n",
    "# This farm has only dogs and pigs. The machine should be able to say if a given animal is a pig or a dog.\n",
    "\n",
    "# To do so, let us say we are using three features of animals: if it has long fur, short leg and if it says woof.\n",
    "# an_animal = [long fur?, short leg?, Says woof?]"
   ]
  },
  {
   "cell_type": "code",
   "execution_count": 13,
   "metadata": {},
   "outputs": [],
   "source": [
    "# We are going to use what is called supervised learning since we are giving a dataset with examples.\n",
    "# In this very simple dataset we have three pigs (\"real\" pigs that were observed by an human) and three \"real\" dogs.\n",
    "# Each of them has the following observed features:\n",
    "\n",
    "pig1 = [0,1,0]\n",
    "pig2 = [0,1,1]\n",
    "pig3 = [1,1,0]\n",
    "\n",
    "dog1 = [0,1,1]\n",
    "dog2 = [1,0,1]\n",
    "dog3 = [1,1,1]\n",
    "\n",
    "# In this given dataset we are telling the right categorization for each sample.\n",
    "# In other words, we are giving the input (the six samples) and the outputs (bellow) for this dataset.\n",
    "\n",
    "categories_of_samples = [1,1,1,0,0,0] # 1 means pig, 0 means dog"
   ]
  },
  {
   "cell_type": "code",
   "execution_count": 14,
   "metadata": {},
   "outputs": [],
   "source": [
    "# Our dataset will be used to train the machine, the inputs are being called train_x and outputs train_y \n",
    "\n",
    "train_x = [pig1, pig2, pig3, dog1, dog2, dog3]\n",
    "train_y = categories_of_samples"
   ]
  },
  {
   "cell_type": "code",
   "execution_count": 15,
   "metadata": {
    "colab": {
     "base_uri": "https://localhost:8080/",
     "height": 89
    },
    "colab_type": "code",
    "executionInfo": {
     "elapsed": 729,
     "status": "ok",
     "timestamp": 1588413469854,
     "user": {
      "displayName": "Cleber Jorge Amaral",
      "photoUrl": "https://lh3.googleusercontent.com/a-/AOh14Gh_i2w3LVoE3gi4Mh7LdYkvbfINKstBWqNBjcIg=s64",
      "userId": "15588936080531572906"
     },
     "user_tz": 180
    },
    "id": "-1yh3-wfybA1",
    "outputId": "1d16278c-ba99-4f68-c2ab-87930175295c"
   },
   "outputs": [
    {
     "data": {
      "text/plain": [
       "LinearSVC(C=1.0, class_weight=None, dual=True, fit_intercept=True,\n",
       "          intercept_scaling=1, loss='squared_hinge', max_iter=1000,\n",
       "          multi_class='ovr', penalty='l2', random_state=None, tol=0.0001,\n",
       "          verbose=0)"
      ]
     },
     "execution_count": 15,
     "metadata": {},
     "output_type": "execute_result"
    }
   ],
   "source": [
    "# What we want now it to build a model that is able to learn from the samples how a dog looks like and\n",
    "# how a pig looks like in terms of the given features\n",
    "\n",
    "# If we gave enought informartion, the machine should be able to find a model that can differentiate those\n",
    "# animals and if this model is good enough, we can give to it a new animal, someone it never saw and it should\n",
    "# be able to give a good bet about which animal is it, a dog or a pig\n",
    "\n",
    "# In this example we will use a linear function to draw a division line among samples.\n",
    "# Drawing a line can be enought if our data varies in a linear way.\n",
    "# We gonna use sklearn.svm.LinearSVC\n",
    "# https://scikit-learn.org/stable/modules/generated/sklearn.svm.LinearSVC.html\n",
    "\n",
    "from sklearn.svm import LinearSVC\n",
    "\n",
    "# We declare an empty model\n",
    "model = LinearSVC()\n",
    "\n",
    "# Then we give to this model our dataset for training\n",
    "# In this process, the machine uses the samples to set parameters that are adjusted in order to find\n",
    "# a good composition in which it can achieve the y values giving the x values it already knows.\n",
    "model.fit(train_x, train_y)\n",
    "\n",
    "# After that, the model is trained and is able to classify other animals from new observations"
   ]
  },
  {
   "cell_type": "code",
   "execution_count": 16,
   "metadata": {
    "colab": {
     "base_uri": "https://localhost:8080/",
     "height": 35
    },
    "colab_type": "code",
    "executionInfo": {
     "elapsed": 711,
     "status": "ok",
     "timestamp": 1588413532981,
     "user": {
      "displayName": "Cleber Jorge Amaral",
      "photoUrl": "https://lh3.googleusercontent.com/a-/AOh14Gh_i2w3LVoE3gi4Mh7LdYkvbfINKstBWqNBjcIg=s64",
      "userId": "15588936080531572906"
     },
     "user_tz": 180
    },
    "id": "mFE0HMbQylui",
    "outputId": "26308bab-becb-4a43-edcd-2d910bd7fbe0"
   },
   "outputs": [
    {
     "name": "stdout",
     "output_type": "stream",
     "text": [
      "It is supposed to be a dog (0). The result is:  [0]\n"
     ]
    }
   ],
   "source": [
    "# Let us say, a new observation produced the following register\n",
    "another_animal = [1,1,1]\n",
    "\n",
    "# Let us ask to the trained model to tell which animal it is\n",
    "prediction = model.predict([another_animal])\n",
    "print(\"It is supposed to be a dog (0). The result is: \",prediction)\n",
    "\n",
    "# Indeed, it is supposed to be a dog. It is actually equal to one of the ovservations that were given for training."
   ]
  }
 ],
 "metadata": {
  "colab": {
   "authorship_tag": "ABX9TyMUjYp+v8VMC54+/cnedzCy",
   "collapsed_sections": [],
   "name": "1-understanding-data-science.ipynb",
   "provenance": [],
   "toc_visible": true
  },
  "kernelspec": {
   "display_name": "Python 3",
   "language": "python",
   "name": "python3"
  },
  "language_info": {
   "codemirror_mode": {
    "name": "ipython",
    "version": 3
   },
   "file_extension": ".py",
   "mimetype": "text/x-python",
   "name": "python",
   "nbconvert_exporter": "python",
   "pygments_lexer": "ipython3",
   "version": "3.5.3"
  }
 },
 "nbformat": 4,
 "nbformat_minor": 1
}
